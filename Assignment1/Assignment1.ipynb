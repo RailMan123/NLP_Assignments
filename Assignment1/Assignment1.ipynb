{
 "cells": [
  {
   "cell_type": "markdown",
   "metadata": {
    "id": "RKboZnAdgrRM"
   },
   "source": [
    "# If numpy package considered as additional installation, download it using requirements.txt."
   ]
  },
  {
   "cell_type": "markdown",
   "source": [
    "# [NLP] Assignment 1: Tokenization\n",
    "\n",
    "In this assignment, you need to tokenize the text of the Twitter(X) users posts(tweets). The assignment consists of two tasks. When you finish all the tasks, create a GitHub repository for this assignment (you can use this repo later for the other assignments) and submit this notebook in the repository. Leave `requirements.txt` file if your code requires additional installations. Submit the link to the repository in Moodle.\n",
    "\n",
    "The [data](https://drive.google.com/file/d/15x_wPAflvYQ2Xh38iNQGrqUIWLj5l5Nw/view?usp=share_link) contains 5 files whereby each contains 44 tweets. Each tweet is separated by a newline."
   ],
   "metadata": {
    "collapsed": false
   }
  },
  {
   "cell_type": "markdown",
   "metadata": {
    "id": "aLDjjAvemUP_"
   },
   "source": [
    "## Task 1. Tokenize some tweets manually (20 points)\n",
    "\n",
    "As a first task you need to tokenize first 15 tweets from `file2` by hand. This will allow you to understand the problem from a linguistic point of view. The guidelines for tweet tokenization are as follows:\n",
    "\n",
    "- Each smiley is a separate token\n",
    "- Each hashtag is an individual token. Each user reference is an individual token\n",
    "- If a word has spaces between them then it is converted to a single token\n",
    "- All punctuations are individual tokens. This includes double-quotes and single quotes also\n",
    "- A URL is a single token\n",
    "\n",
    "Example of output\n",
    "\n",
    "    Input tweet\n",
    "    @xfranman Old age has made N A T O!\n",
    "\n",
    "    Tokenized tweet (separated by comma)\n",
    "    @xfranman , Old , age , has , made , NATO , !"
   ]
  },
  {
   "cell_type": "markdown",
   "metadata": {
    "id": "7KKKwTidnzUw"
   },
   "source": [
    "\n",
    "    1. Input tweet\n",
    "    Camping in Maine for the weekend. Hey Dad, Mama Loves YOU: http://www.mamapalooza.com\n",
    "    1. Tokenized tweet\n",
    "    Camping , in , Maine , for , the , weekend , . , Hey , Dad, , , , Mama , Loves , YOU , : , http://www.mamapalooza.com\n",
    "\n",
    "    2. Input tweet\n",
    "    Its american tradition bitch\n",
    "    2. Tokenized tweet\n",
    "    Its , american , tradition , bitch\n",
    "\n",
    "    3. Input tweet\n",
    "    @ThroughTheVoid They love it! The only pleasure they get in life. I actually do that. I'm sure I hear a tiny squeak... Then louder ones\n",
    "    3. Tokenized tweet\n",
    "    @ThroughTheVoid , They , love , it , ! , The , only , pleasure , they , get , in , life , . , I , actually , do , that , . , I , ' , m , sure , I , hear , a , tiny , squeak , ... , Then , louder , ones\n",
    "\n",
    "    4. Input tweet\n",
    "    \" RT @latti: @AbsoHilare stop tweeting in church! Lol <--- \"\"I tweet because I'm happy, I tweet because I'm free\"\" LOL!\"\n",
    "    4. Tokenized tweet\n",
    "    \" , RT , @latti , : , @AbsoHilare , stop , tweeting , in , church , ! , Lol , <--- , \"\" , I , tweet , because , I , ' , m , happy , , , I , tweet , because , I , ' , m , free , \"\" , LOL , ! , \"\n",
    "\n",
    "    5. Input tweet\n",
    "    Samsung Mini S2 portable HDD graced with colors that perfectly match your tacky beach gear: Sammy's done it aga.. http://tinyurl.com/lb5p6m\n",
    "    5. Tokenized tweet\n",
    "    Samsung , Mini , S2 , portable , HDD , graced , with , colors , that , perfectly , match , your , tacky , beach , gear , : , Sammy , ' , s , done , it , aga , .. , http://tinyurl.com/lb5p6m\n",
    "\n",
    "    6. Input tweet\n",
    "    @dialloc congrats on finding your way over. it may be slow going at first. hang in there. it's kinda cool when u get up to speed.\n",
    "    6. Tokenized tweet\n",
    "    @dialloc , congrats , on , finding , your , way , over , . , it , may , be , slow , going , at , first , . , hang , in , there , . , it , ' , s , kinda , cool , when , u , get , up , to , speed , .\n",
    "\n",
    "    7. Input tweet\n",
    "    iPhone activation delays continue, Apple offers $30 http://twt.gs/l3Ki\n",
    "    7. Tokenized tweet\n",
    "    iPhone , activation , delays , continue , , , Apple , offers , $ , 30 , http://twt.gs/l3Ki\n",
    "\n",
    "    8. Input tweet\n",
    "    RT @GoogleAtWork Gmail maximum attachment size now 25MB http://bit.ly/62mjw Nice!!!\n",
    "    8. Tokenized tweet\n",
    "    RT , @GoogleAtWork , Gmail , maximum , attachment , size , now , 25 , MB , http://bit.ly/62mjw , Nice , ! , ! , !\n",
    "\n",
    "    9. Input tweet\n",
    "    RT @acfou The Ads Won Awards for Crispin; But Did Nothing for Client BurgerKing's Sales/Marketshare - Big Surprise - http://ping.fm/vw8TI\n",
    "    9. Tokenized tweet\n",
    "    RT , @acfou , The , Ads , Won , Awards , for , Crispin , ; , But , Did , Nothing , for , Client , BurgerKing , ' , s , Sales , / , Marketshare , - , Big , Surprise , - , http://ping.fm/vw8TI\n",
    "\n",
    "    10. Input tweet\n",
    "    Hey doll! Great I missed True Blood yday boo lol Rt @FrankBanuat78 @jhillstephens Hello Sunshine how are u today? :-)\n",
    "    10. Tokenized tweet\n",
    "    Hey , doll , ! , Great , I , missed , True , Blood , yday , boo , lol , Rt , @FrankBanuat78 , @jhillstephens , Hello , Sunshine , how , are , u , today , ? , :-)\n",
    "\n",
    "    11. Input tweet\n",
    "    Australian artist Pogo made these free songs primarily from sampled audio from Alice In Wonderland. http://www.last.fm/music/Pogo/Wonderland\n",
    "    11. Tokenized tweet\n",
    "    Australian , artist , Pogo , made , these , free , songs , primarily , from , sampled , audio , from , Alice , In , Wonderland , . , http://www.last.fm/music/Pogo/Wonderland\n",
    "\n",
    "    12. Input tweet\n",
    "    @mppritchard they wanted to sell all the preorders & then sell all of the ones they had in stock to those that just walked in. Can't do both\n",
    "    12. Tokenized tweet\n",
    "    @mppritchard , they , wanted , to , sell , all , the , preorders , & , then , sell , all , of , the , ones , they , had , in , stock , to , those , that , just , walked , in , . , Can , ' , t , do , both\n",
    "\n",
    "    13. Input tweet\n",
    "    Incoming: Frightened Rabbit, Sept. 22 (Tucson): If Fat Cat Records is going to send three great bands from Scot.. http://tinyurl.com/nz6xcv\n",
    "    13. Tokenized tweet\n",
    "    Incoming, : , Frightened , Rabbit , , , Sept , . , 22 , ( , Tucson , ) , : , If , Fat , Cat , Records , is , going , to , send , three ,  great , bands , from , Scot , .. , http://tinyurl.com/nz6xcv\n",
    "\n",
    "    14. Input tweet\n",
    "    Hey @ginoandfran please greet philip! (GinoandFran live > http://ustre.am/2YyQ)\n",
    "    14. Tokenized tweet\n",
    "    Hey , @ginoandfran , please , greet , philip , ! , ( , GinoandFran , live , > , http://ustre.am/2YyQ , )\n",
    "\n",
    "    15. Input tweet\n",
    "    Ik weet niet wie er achter de T-Mobile iPhone Twitter zit maar ik vind het niet echt 'corporate' taalgebruik... Best vreemd eigenlijk\n",
    "    15. Tokenized tweet\n",
    "    Ik , weet , niet , wie , er , achter , de , T , - , Mobile , iPhone , Twitter , zit , maar , ik , vind , het , niet , echt , ' , corporate , ' , taalgebruik , ... , Best , vreemd , eigenlijk"
   ]
  },
  {
   "cell_type": "markdown",
   "metadata": {
    "id": "-2J2AD2nmUhi"
   },
   "source": [
    "## Task 2. Implement [Byte-Pair Encoding(BPE)](https://arxiv.org/pdf/1508.07909.pdf) Tokenizer (80 points)\n",
    "\n",
    "### Task 2.1. Implementation (60 points)\n",
    "\n",
    "Implement the tokenizer as the BPETokenizer class:\n",
    "* Implement `train` method that learns merges and builds the vocabulary of the specified `vocab_size` (25 points).\n",
    "* Implement `tokenize` method that should tokenize the text according to the learnt merges (25 points).\n",
    "\n",
    "Your code should have docstrings and comments (10 points)."
   ]
  },
  {
   "cell_type": "code",
   "execution_count": 1,
   "outputs": [],
   "source": [
    "import os\n",
    "from collections import defaultdict\n",
    "# References:\n",
    "# Reference1: https://arxiv.org/pdf/1508.07909.pdf\n",
    "# Reference2: https://huggingface.co/learn/nlp-course/chapter6/5\n",
    "\n",
    "def get_all_lines(path=\"data/\"):\n",
    "    \"\"\"Function used to retrieve all text lines from files in specified directory.\n",
    "    Returns list of lines of text\"\"\"\n",
    "    files = [path + f for f in os.listdir(path)]\n",
    "    lines = []\n",
    "    for f in files:\n",
    "        with open(f, \"r\") as file:\n",
    "            lines.extend(file.readlines())\n",
    "    return lines\n",
    "\n",
    "\n",
    "def get_corpus(lines):\n",
    "    \"\"\"Function used to concatenate distinct lines of text into one string, removing line escape characters\"\"\"\n",
    "    text = \"\"\n",
    "    for i in lines:\n",
    "        text += i[:-1] + \" \"\n",
    "    return text\n",
    "\n",
    "\n",
    "def get_vocab(corpus):\n",
    "    \"\"\"Function used to retrieve all unique characters used in corpus.\n",
    "    Returns list of characters\"\"\"\n",
    "    vocab = []\n",
    "    for i in corpus:\n",
    "        if i not in vocab:\n",
    "            vocab.append(i)\n",
    "    return vocab"
   ],
   "metadata": {
    "collapsed": false,
    "ExecuteTime": {
     "start_time": "2024-02-04T23:34:28.680057Z",
     "end_time": "2024-02-04T23:34:28.695419Z"
    }
   }
  },
  {
   "cell_type": "code",
   "execution_count": 2,
   "metadata": {
    "ExecuteTime": {
     "start_time": "2024-02-04T23:34:28.701425Z",
     "end_time": "2024-02-04T23:34:28.711672Z"
    }
   },
   "outputs": [],
   "source": [
    "from typing import List\n",
    "\n",
    "\n",
    "class BPETokenizer:\n",
    "\n",
    "    def __init__(self, vocab_size: int) -> None:\n",
    "        self.vocab_size = vocab_size\n",
    "        self.splits = {}  # Words divided into tokens\n",
    "        self.word_freqs = defaultdict(int)  # Number of times each word used in a corpus\n",
    "        self.vocab = None\n",
    "        self.merges = {}  # Info about merged pairs\n",
    "\n",
    "    def compute_initial_splits(self, text):\n",
    "        \"\"\"Computes frequencies of the words in corpus. Also splits words into individual characters\"\"\"\n",
    "        for word in text.split():\n",
    "            self.word_freqs[word] += 1\n",
    "        self.splits = {word: [c for c in word] for word in self.word_freqs.keys()}\n",
    "\n",
    "    def get_pairs(self):\n",
    "        \"\"\"Computes frequencies of each consequent pair in current splits\"\"\"\n",
    "        pairs = defaultdict(int)\n",
    "        for word, count in self.word_freqs.items():\n",
    "            split = self.splits[word]\n",
    "            if len(split) == 1:  # Skip if a word is fully tokenized already\n",
    "                continue\n",
    "            for i in range(len(split) - 1):\n",
    "                pair = (split[i], split[i + 1])\n",
    "                pairs[pair] += count\n",
    "\n",
    "        return pairs\n",
    "\n",
    "    def merge(self, pair):\n",
    "        \"\"\"Updates splits merging respective pairs\"\"\"\n",
    "        a, b = pair\n",
    "        for word in self.word_freqs:\n",
    "            split = self.splits[word]\n",
    "            if len(split) == 1:\n",
    "                continue\n",
    "            i = 0\n",
    "            while i < len(split) - 1:\n",
    "                if split[i] == a and split[i + 1] == b:\n",
    "                    split = split[:i] + [a + b] + split[i + 2:]  # Replace 2 pieces by 1\n",
    "                else:\n",
    "                    i += 1\n",
    "            self.splits[word] = split\n",
    "\n",
    "    def train(self, corpus: List[str]) -> None:\n",
    "        self.compute_initial_splits(corpus)  # Compute initial splits and word frequencies\n",
    "        self.vocab = get_vocab(corpus)  # Build initial vocabulary\n",
    "\n",
    "        while len(self.vocab) < self.vocab_size:\n",
    "            pairs = self.get_pairs()  # Get pair info\n",
    "            best = max(pairs, key=pairs.get)  # Choose the most frequent\n",
    "            if pairs[best] == 1:  # If the most frequent one used only once, then terminate.\n",
    "                break\n",
    "\n",
    "            self.merge(best)\n",
    "            self.vocab.append(best[0] + best[1])  # Update vocab and merges\n",
    "            self.merges[best] = best[0] + best[1]\n",
    "\n",
    "    def tokenize(self, text: str) -> List[str]:\n",
    "        splits = [[c for c in word] for word in text.split()]  # Splitting words into distinct characters\n",
    "        for pair, result in self.merges.items():  # Consequently apply transformations to splits\n",
    "            for idx, split in enumerate(splits):\n",
    "                i = 0\n",
    "                while i < len(split) - 1:\n",
    "                    if split[i] == pair[0] and split[i + 1] == pair[1]:\n",
    "                        split = split[:i] + [result] + split[i + 2:]\n",
    "                    else:\n",
    "                        i += 1\n",
    "                splits[idx] = split\n",
    "        return sum(splits, [])  # return joined tokens"
   ]
  },
  {
   "cell_type": "code",
   "execution_count": 3,
   "outputs": [
    {
     "name": "stdout",
     "output_type": "stream",
     "text": [
      "['A', 's', 'you', 'follow', 'Me', ',', 'I', 'lead', 'you', 'al', 'ong', 'p', 'ath', 's', 'of', 'new', 'n', 'ess', ':', 'way', 's', 'you', 'have', 'never', 'im', 'ag', 'in', 'ed.', '-', '@', 'Jesus', '_', 'C', 'all', 'ing', '#SemST']\n"
     ]
    }
   ],
   "source": [
    "# Example from train dataset\n",
    "lines = get_all_lines()\n",
    "corpus = get_corpus(lines)\n",
    "tokenizer = BPETokenizer(1000)\n",
    "tokenizer.train(corpus)\n",
    "print(tokenizer.tokenize(\n",
    "    \"As you follow Me, I lead you along paths of newness: ways you have never imagined. - @Jesus_Calling  #SemST\"))"
   ],
   "metadata": {
    "collapsed": false,
    "ExecuteTime": {
     "start_time": "2024-02-04T23:34:28.712674Z",
     "end_time": "2024-02-04T23:34:33.762121Z"
    }
   }
  },
  {
   "cell_type": "markdown",
   "metadata": {},
   "source": [
    "### Task 2.2. Analysis on Tweets Dataset (10 points)\n",
    "\n",
    "Train the BPE tokenizer on the tweets dataset. Try to tokenize the tweets with the tokenizer of different `vocab_size`. For example, train the BPE tokenizer with `vocab_size` of [base_vocab_size, 250, 500, 750, 1000]. Plot the dependency of the average length of the tokenized tweet by `vocab_size` to analyze how `vocab_size` affects the length of the tokenized tweet on average. Tell what `vocab_size` is preferrable and why."
   ]
  },
  {
   "cell_type": "code",
   "execution_count": 4,
   "metadata": {
    "ExecuteTime": {
     "start_time": "2024-02-04T23:34:33.765721Z",
     "end_time": "2024-02-04T23:34:49.087757Z"
    }
   },
   "outputs": [],
   "source": [
    "vocab_sizes = [len(get_vocab(corpus)), 250, 500, 750, 1000]\n",
    "avg_tweet_lenghts = []\n",
    "for i in vocab_sizes:\n",
    "    tokenizer = BPETokenizer(i)\n",
    "    tokenizer.train(corpus)\n",
    "    tweet_lenghts = []\n",
    "    for t in lines:\n",
    "        tweet_lenghts.append(len(tokenizer.tokenize(t[:-1])))\n",
    "    avg_tweet_lenghts.append(sum(tweet_lenghts) / len(tweet_lenghts))"
   ]
  },
  {
   "cell_type": "code",
   "execution_count": 5,
   "outputs": [
    {
     "data": {
      "text/plain": "<Figure size 640x480 with 1 Axes>",
      "image/png": "[encoded data removed]"
     },
     "metadata": {},
     "output_type": "display_data"
    }
   ],
   "source": [
    "from matplotlib import pyplot as plt\n",
    "\n",
    "plt.plot(vocab_sizes, avg_tweet_lenghts, color='red', marker=\"o\")\n",
    "plt.xlabel(\"Vocabulary size\")\n",
    "plt.ylabel(\"Avg tokenized tweet length\")\n",
    "plt.show()"
   ],
   "metadata": {
    "collapsed": false,
    "ExecuteTime": {
     "start_time": "2024-02-04T23:34:49.088755Z",
     "end_time": "2024-02-04T23:34:50.113333Z"
    }
   }
  },
  {
   "cell_type": "markdown",
   "source": [
    "#### As we can see, the larger the vocabulary, the shorter the average tweet length. I think the preferred vocabulary should be greater than 1000 because I noticed that many of the words from the tweets in the training set are tokenized in such a way that the tokens often don't represent the word in a meaningful way and there are too many of them."
   ],
   "metadata": {
    "collapsed": false
   }
  },
  {
   "cell_type": "markdown",
   "metadata": {},
   "source": [
    "### Task 2.3. Analysis on Dataset of Different Language (10 points)\n",
    "\n",
    "Find a small dataset of texts in a language other than English. The dataset size should be not greater than several megabytes.\n",
    "\n",
    "Train the BPE tokenizer on the dataset that you found. Try to tokenize the sentences from this dataset with the tokenizer of different `vocab_size`. Plot the dependency of the average length of the tokenized sentence by `vocab_size` to analyze how `vocab_size` affects the length of the tokenized sentence on average.\n",
    "\n",
    "Tell how the average length of the tokenized sentence differs from the average length of the tokenized tweet. Explain why."
   ]
  },
  {
   "cell_type": "code",
   "execution_count": 6,
   "metadata": {
    "ExecuteTime": {
     "start_time": "2024-02-04T23:34:50.116559Z",
     "end_time": "2024-02-04T23:34:50.120100Z"
    }
   },
   "outputs": [],
   "source": [
    "import urllib.request\n",
    "\n",
    "# For this task I will use Lenta Short Sentences dataset's test part. It is a text dataset for language modelling for the Russian language. It consists of 236K sentences sampled from the Lenta News dataset, but I will use only 8k of them.\n",
    "\n",
    "# # Downloading dataset. If needed, uncomment\n",
    "# urllib.request.urlretrieve(\"https://raw.githubusercontent.com/zeinsh/lenta_short_sentences/master/lenta.test.txt\",\n",
    "#                            \"lenta_sentences.txt\")"
   ]
  },
  {
   "cell_type": "code",
   "execution_count": 7,
   "outputs": [],
   "source": [
    "with open(\"lenta_sentences.txt\", \"r\", encoding='utf-8') as file:\n",
    "    russian_lines = file.readlines()\n",
    "russian_lines = russian_lines[:len(russian_lines) // 2]  # Using half of the sentences to speed up experiment\n",
    "russian_corpus = get_corpus(russian_lines)\n",
    "rus_tokenizer = None"
   ],
   "metadata": {
    "collapsed": false,
    "ExecuteTime": {
     "start_time": "2024-02-04T23:34:50.124466Z",
     "end_time": "2024-02-04T23:34:50.284725Z"
    }
   }
  },
  {
   "cell_type": "code",
   "execution_count": 8,
   "outputs": [],
   "source": [
    "vocab_sizes = [len(get_vocab(russian_corpus)), 250, 500, 750, 1000]\n",
    "avg_sentence_lenghts = []\n",
    "for i in vocab_sizes:\n",
    "    rus_tokenizer = BPETokenizer(i)\n",
    "    rus_tokenizer.train(russian_corpus)\n",
    "    sentence_lenghts = []\n",
    "    for t in russian_lines:\n",
    "        sentence_lenghts.append(len(rus_tokenizer.tokenize(t[:-1])))\n",
    "    avg_sentence_lenghts.append(sum(sentence_lenghts) / len(sentence_lenghts))"
   ],
   "metadata": {
    "collapsed": false,
    "ExecuteTime": {
     "start_time": "2024-02-04T23:34:50.288774Z",
     "end_time": "2024-02-04T23:38:47.129907Z"
    }
   }
  },
  {
   "cell_type": "code",
   "execution_count": 9,
   "outputs": [
    {
     "data": {
      "text/plain": "<Figure size 640x480 with 1 Axes>",
      "image/png": "[encoded data removed]"
     },
     "metadata": {},
     "output_type": "display_data"
    }
   ],
   "source": [
    "plt.plot(vocab_sizes, avg_sentence_lenghts, color='red', marker=\"o\")\n",
    "plt.xlabel(\"Vocabulary size\")\n",
    "plt.ylabel(\"Avg tokenized sentence length\")\n",
    "plt.show()"
   ],
   "metadata": {
    "collapsed": false,
    "ExecuteTime": {
     "start_time": "2024-02-04T23:38:47.132847Z",
     "end_time": "2024-02-04T23:38:47.341509Z"
    }
   }
  },
  {
   "cell_type": "markdown",
   "source": [
    "#### Looking into result of experiment with BPE applied to russian corpus, I can conclude that average length of the tokenized sentence do not differ from the average length of the tokenized tweet. I guess it is because of the same nature of the data: even though it is in different languages, the length of the sentences and tweets, as well as richness of the texts and variety of symbols used are approximately the same."
   ],
   "metadata": {
    "collapsed": false
   }
  },
  {
   "cell_type": "code",
   "execution_count": 10,
   "outputs": [
    {
     "name": "stdout",
     "output_type": "stream",
     "text": [
      "['его', 'бюдж', 'ет', 'состави', 'л', 'около', 'DDD', 'миллионов', 'долларов', ',', 'не', 'счита', 'я', 'за', 'тра', 'т', 'на', 'ре', 'к', 'ла', 'му', '.']\n"
     ]
    }
   ],
   "source": [
    "# Example of tokenization of russian text\n",
    "result = rus_tokenizer.tokenize(\"его бюджет составил около DDD миллионов долларов , не считая затрат на рекламу .\")\n",
    "print(result)"
   ],
   "metadata": {
    "collapsed": false,
    "ExecuteTime": {
     "start_time": "2024-02-04T23:38:47.342506Z",
     "end_time": "2024-02-04T23:38:47.354988Z"
    }
   }
  }
 ],
 "metadata": {
  "colab": {
   "provenance": [],
   "toc_visible": true
  },
  "kernelspec": {
   "name": "python3",
   "language": "python",
   "display_name": "Python 3 (ipykernel)"
  },
  "language_info": {
   "name": "python"
  }
 },
 "nbformat": 4,
 "nbformat_minor": 0
}
